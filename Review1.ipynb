{
  "nbformat": 4,
  "nbformat_minor": 0,
  "metadata": {
    "colab": {
      "name": "Review1.ipynb",
      "provenance": [],
      "collapsed_sections": [],
      "include_colab_link": true
    },
    "kernelspec": {
      "name": "python3",
      "display_name": "Python 3"
    }
  },
  "cells": [
    {
      "cell_type": "markdown",
      "metadata": {
        "id": "view-in-github",
        "colab_type": "text"
      },
      "source": [
        "<a href=\"https://colab.research.google.com/github/raimamathew/Heart-Arrhythmia/blob/master/Review1.ipynb\" target=\"_parent\"><img src=\"https://colab.research.google.com/assets/colab-badge.svg\" alt=\"Open In Colab\"/></a>"
      ]
    },
    {
      "cell_type": "code",
      "metadata": {
        "id": "zRcsrjEOCWZb",
        "colab_type": "code",
        "colab": {}
      },
      "source": [
        "import numpy as np\n",
        "import pandas as pd\n",
        "import matplotlib.pyplot as plt\n",
        "import seaborn as sns\n",
        "import pickle\n",
        "\n",
        "%matplotlib inline"
      ],
      "execution_count": 0,
      "outputs": []
    },
    {
      "cell_type": "code",
      "metadata": {
        "id": "VNBNoEh4Cf0I",
        "colab_type": "code",
        "colab": {
          "base_uri": "https://localhost:8080/",
          "height": 122
        },
        "outputId": "b9596ff3-38c1-411d-f05a-bd904064228a"
      },
      "source": [
        "from google.colab import drive\n",
        "drive.mount('/content/drive')"
      ],
      "execution_count": 3,
      "outputs": [
        {
          "output_type": "stream",
          "text": [
            "Go to this URL in a browser: https://accounts.google.com/o/oauth2/auth?client_id=947318989803-6bn6qk8qdgf4n4g3pfee6491hc0brc4i.apps.googleusercontent.com&redirect_uri=urn%3aietf%3awg%3aoauth%3a2.0%3aoob&response_type=code&scope=email%20https%3a%2f%2fwww.googleapis.com%2fauth%2fdocs.test%20https%3a%2f%2fwww.googleapis.com%2fauth%2fdrive%20https%3a%2f%2fwww.googleapis.com%2fauth%2fdrive.photos.readonly%20https%3a%2f%2fwww.googleapis.com%2fauth%2fpeopleapi.readonly\n",
            "\n",
            "Enter your authorization code:\n",
            "··········\n",
            "Mounted at /content/drive\n"
          ],
          "name": "stdout"
        }
      ]
    },
    {
      "cell_type": "code",
      "metadata": {
        "id": "3q7gcw_NCuoA",
        "colab_type": "code",
        "colab": {}
      },
      "source": [
        "train_data = pd.read_csv('/content/drive/My Drive/Heart Arrhythmia/mitbih_train.csv',header=None)\n",
        "test_data= pd.read_csv('/content/drive/My Drive/Heart Arrhythmia/mitbih_test.csv',header=None)"
      ],
      "execution_count": 0,
      "outputs": []
    },
    {
      "cell_type": "code",
      "metadata": {
        "id": "RGAB9EU0C0f1",
        "colab_type": "code",
        "colab": {
          "base_uri": "https://localhost:8080/",
          "height": 34
        },
        "outputId": "025cce7a-3d8a-4dc4-9468-437d31951fd6"
      },
      "source": [
        "train_data.shape"
      ],
      "execution_count": 5,
      "outputs": [
        {
          "output_type": "execute_result",
          "data": {
            "text/plain": [
              "(87554, 188)"
            ]
          },
          "metadata": {
            "tags": []
          },
          "execution_count": 5
        }
      ]
    },
    {
      "cell_type": "code",
      "metadata": {
        "id": "W_L1GjJqC0zM",
        "colab_type": "code",
        "colab": {
          "base_uri": "https://localhost:8080/",
          "height": 34
        },
        "outputId": "4446a0ca-b2f1-4468-cd9f-6dfc67270fe7"
      },
      "source": [
        "test_data.shape"
      ],
      "execution_count": 6,
      "outputs": [
        {
          "output_type": "execute_result",
          "data": {
            "text/plain": [
              "(21892, 188)"
            ]
          },
          "metadata": {
            "tags": []
          },
          "execution_count": 6
        }
      ]
    },
    {
      "cell_type": "code",
      "metadata": {
        "id": "moeK_bZsC1D7",
        "colab_type": "code",
        "colab": {
          "base_uri": "https://localhost:8080/",
          "height": 1000
        },
        "outputId": "83de9121-9402-41e6-991a-f24c518b2f4f"
      },
      "source": [
        "\n",
        "# check for the unique values of each column in train data\n",
        "for item in train_data:\n",
        "    print(item, train_data[item].nunique())\n",
        "print(train_data.shape)\n",
        "# Variation has mostly different values"
      ],
      "execution_count": 8,
      "outputs": [
        {
          "output_type": "stream",
          "text": [
            "0 23408\n",
            "1 42845\n",
            "2 49611\n",
            "3 41007\n",
            "4 39328\n",
            "5 40559\n",
            "6 40516\n",
            "7 40423\n",
            "8 40305\n",
            "9 39950\n",
            "10 40106\n",
            "11 40347\n",
            "12 40320\n",
            "13 40628\n",
            "14 41177\n",
            "15 41671\n",
            "16 42091\n",
            "17 42404\n",
            "18 42914\n",
            "19 43188\n",
            "20 43678\n",
            "21 44172\n",
            "22 44576\n",
            "23 44779\n",
            "24 45154\n",
            "25 45500\n",
            "26 45612\n",
            "27 46051\n",
            "28 46434\n",
            "29 46729\n",
            "30 46719\n",
            "31 46839\n",
            "32 46364\n",
            "33 46230\n",
            "34 46283\n",
            "35 46241\n",
            "36 46005\n",
            "37 45864\n",
            "38 45604\n",
            "39 45630\n",
            "40 45347\n",
            "41 44982\n",
            "42 44738\n",
            "43 44358\n",
            "44 44234\n",
            "45 43859\n",
            "46 43714\n",
            "47 43539\n",
            "48 43191\n",
            "49 43062\n",
            "50 43036\n",
            "51 42994\n",
            "52 42901\n",
            "53 43068\n",
            "54 43079\n",
            "55 43168\n",
            "56 43194\n",
            "57 43126\n",
            "58 43094\n",
            "59 43344\n",
            "60 43493\n",
            "61 43551\n",
            "62 43608\n",
            "63 43540\n",
            "64 43689\n",
            "65 43826\n",
            "66 43789\n",
            "67 43571\n",
            "68 43632\n",
            "69 43398\n",
            "70 43182\n",
            "71 42983\n",
            "72 42859\n",
            "73 42587\n",
            "74 42472\n",
            "75 42266\n",
            "76 42506\n",
            "77 42441\n",
            "78 42505\n",
            "79 42155\n",
            "80 41864\n",
            "81 41514\n",
            "82 41141\n",
            "83 41031\n",
            "84 40877\n",
            "85 40759\n",
            "86 40387\n",
            "87 40090\n",
            "88 39757\n",
            "89 38969\n",
            "90 38494\n",
            "91 37927\n",
            "92 37172\n",
            "93 36701\n",
            "94 36032\n",
            "95 35862\n",
            "96 35574\n",
            "97 35019\n",
            "98 34649\n",
            "99 34352\n",
            "100 33787\n",
            "101 33370\n",
            "102 32584\n",
            "103 31973\n",
            "104 31198\n",
            "105 30619\n",
            "106 29791\n",
            "107 29163\n",
            "108 28263\n",
            "109 27653\n",
            "110 26803\n",
            "111 26382\n",
            "112 25511\n",
            "113 25132\n",
            "114 24587\n",
            "115 24108\n",
            "116 23681\n",
            "117 23096\n",
            "118 22351\n",
            "119 21841\n",
            "120 21112\n",
            "121 20317\n",
            "122 19533\n",
            "123 18861\n",
            "124 18019\n",
            "125 17204\n",
            "126 16572\n",
            "127 15945\n",
            "128 15399\n",
            "129 14844\n",
            "130 14426\n",
            "131 13853\n",
            "132 13461\n",
            "133 12979\n",
            "134 12618\n",
            "135 12264\n",
            "136 11882\n",
            "137 11456\n",
            "138 11107\n",
            "139 10742\n",
            "140 10291\n",
            "141 10003\n",
            "142 9643\n",
            "143 9287\n",
            "144 8893\n",
            "145 8580\n",
            "146 8316\n",
            "147 7981\n",
            "148 7622\n",
            "149 7371\n",
            "150 7098\n",
            "151 6792\n",
            "152 6544\n",
            "153 6301\n",
            "154 6064\n",
            "155 5869\n",
            "156 5566\n",
            "157 5438\n",
            "158 5231\n",
            "159 5055\n",
            "160 4820\n",
            "161 4667\n",
            "162 4504\n",
            "163 4357\n",
            "164 4119\n",
            "165 3906\n",
            "166 3664\n",
            "167 3453\n",
            "168 3173\n",
            "169 2922\n",
            "170 2645\n",
            "171 2391\n",
            "172 2160\n",
            "173 1980\n",
            "174 1819\n",
            "175 1629\n",
            "176 1507\n",
            "177 1408\n",
            "178 1315\n",
            "179 1218\n",
            "180 1127\n",
            "181 1038\n",
            "182 968\n",
            "183 920\n",
            "184 843\n",
            "185 778\n",
            "186 748\n",
            "187 5\n",
            "(87554, 188)\n"
          ],
          "name": "stdout"
        }
      ]
    },
    {
      "cell_type": "code",
      "metadata": {
        "id": "bgJZmMj7C1S3",
        "colab_type": "code",
        "colab": {
          "base_uri": "https://localhost:8080/",
          "height": 390
        },
        "outputId": "cfb0912b-29ab-44ee-a154-b36195077ee9"
      },
      "source": [
        "import matplotlib.pyplot as plt\n",
        "import pandas as pd\n",
        "\n",
        "CountStatus = pd.value_counts(train_data[187], sort=True)\n",
        "print(CountStatus)\n",
        "\n",
        "CountStatus.plot.bar()"
      ],
      "execution_count": 10,
      "outputs": [
        {
          "output_type": "stream",
          "text": [
            "0.0    72471\n",
            "4.0     6431\n",
            "2.0     5788\n",
            "1.0     2223\n",
            "3.0      641\n",
            "Name: 187, dtype: int64\n"
          ],
          "name": "stdout"
        },
        {
          "output_type": "execute_result",
          "data": {
            "text/plain": [
              "<matplotlib.axes._subplots.AxesSubplot at 0x7fef654ef080>"
            ]
          },
          "metadata": {
            "tags": []
          },
          "execution_count": 10
        },
        {
          "output_type": "display_data",
          "data": {
            "image/png": "[encoded data removed]",
            "text/plain": [
              "<Figure size 432x288 with 1 Axes>"
            ]
          },
          "metadata": {
            "tags": []
          }
        }
      ]
    },
    {
      "cell_type": "code",
      "metadata": {
        "id": "IweblFbJC1fW",
        "colab_type": "code",
        "colab": {
          "base_uri": "https://localhost:8080/",
          "height": 272
        },
        "outputId": "2fee29fd-9eee-49c4-8d64-445fb103ff37"
      },
      "source": [
        "# Check the test dataset\n",
        "print(test_data.shape)\n",
        "#21892 rows, 188 columns\n",
        "print(test_data.info())\n",
        "# no null values\n",
        "print(test_data.head())"
      ],
      "execution_count": 11,
      "outputs": [
        {
          "output_type": "stream",
          "text": [
            "(21892, 188)\n",
            "<class 'pandas.core.frame.DataFrame'>\n",
            "RangeIndex: 21892 entries, 0 to 21891\n",
            "Columns: 188 entries, 0 to 187\n",
            "dtypes: float64(188)\n",
            "memory usage: 31.4 MB\n",
            "None\n",
            "        0         1         2         3         4    ...  183  184  185  186  187\n",
            "0  1.000000  0.758264  0.111570  0.000000  0.080579  ...  0.0  0.0  0.0  0.0  0.0\n",
            "1  0.908425  0.783883  0.531136  0.362637  0.366300  ...  0.0  0.0  0.0  0.0  0.0\n",
            "2  0.730088  0.212389  0.000000  0.119469  0.101770  ...  0.0  0.0  0.0  0.0  0.0\n",
            "3  1.000000  0.910417  0.681250  0.472917  0.229167  ...  0.0  0.0  0.0  0.0  0.0\n",
            "4  0.570470  0.399329  0.238255  0.147651  0.000000  ...  0.0  0.0  0.0  0.0  0.0\n",
            "\n",
            "[5 rows x 188 columns]\n"
          ],
          "name": "stdout"
        }
      ]
    },
    {
      "cell_type": "code",
      "metadata": {
        "id": "OzvHUzd1Dx6E",
        "colab_type": "code",
        "colab": {
          "base_uri": "https://localhost:8080/",
          "height": 1000
        },
        "outputId": "79d87f98-0282-401e-b4d3-18e9de0f432e"
      },
      "source": [
        "# check for the unique values of each column in test data\n",
        "for item in test_data:\n",
        "    print(item, test_data[item].nunique())\n",
        "print(test_data.shape)\n",
        "# last column is target column - 5 class"
      ],
      "execution_count": 12,
      "outputs": [
        {
          "output_type": "stream",
          "text": [
            "0 8507\n",
            "1 16139\n",
            "2 17462\n",
            "3 15054\n",
            "4 15217\n",
            "5 15453\n",
            "6 15565\n",
            "7 15672\n",
            "8 15641\n",
            "9 15562\n",
            "10 15615\n",
            "11 15713\n",
            "12 15740\n",
            "13 15729\n",
            "14 15872\n",
            "15 16053\n",
            "16 16004\n",
            "17 16205\n",
            "18 16240\n",
            "19 16416\n",
            "20 16452\n",
            "21 16474\n",
            "22 16626\n",
            "23 16708\n",
            "24 16706\n",
            "25 16807\n",
            "26 16836\n",
            "27 16918\n",
            "28 17146\n",
            "29 17148\n",
            "30 17116\n",
            "31 17051\n",
            "32 17042\n",
            "33 16954\n",
            "34 16988\n",
            "35 16935\n",
            "36 16900\n",
            "37 16922\n",
            "38 16841\n",
            "39 16821\n",
            "40 16794\n",
            "41 16665\n",
            "42 16616\n",
            "43 16592\n",
            "44 16550\n",
            "45 16460\n",
            "46 16390\n",
            "47 16314\n",
            "48 16306\n",
            "49 16227\n",
            "50 16288\n",
            "51 16241\n",
            "52 16316\n",
            "53 16241\n",
            "54 16286\n",
            "55 16226\n",
            "56 16244\n",
            "57 16277\n",
            "58 16151\n",
            "59 16192\n",
            "60 16315\n",
            "61 16358\n",
            "62 16299\n",
            "63 16222\n",
            "64 16322\n",
            "65 16265\n",
            "66 16178\n",
            "67 16159\n",
            "68 16134\n",
            "69 16007\n",
            "70 15975\n",
            "71 15992\n",
            "72 15800\n",
            "73 15813\n",
            "74 15722\n",
            "75 15622\n",
            "76 15577\n",
            "77 15435\n",
            "78 15320\n",
            "79 15153\n",
            "80 14914\n",
            "81 14849\n",
            "82 14669\n",
            "83 14526\n",
            "84 14373\n",
            "85 14385\n",
            "86 14235\n",
            "87 14100\n",
            "88 13890\n",
            "89 13688\n",
            "90 13508\n",
            "91 13311\n",
            "92 13111\n",
            "93 12931\n",
            "94 12624\n",
            "95 12471\n",
            "96 12303\n",
            "97 12052\n",
            "98 11785\n",
            "99 11549\n",
            "100 11390\n",
            "101 11170\n",
            "102 10902\n",
            "103 10530\n",
            "104 10322\n",
            "105 9942\n",
            "106 9664\n",
            "107 9415\n",
            "108 9136\n",
            "109 8892\n",
            "110 8666\n",
            "111 8471\n",
            "112 8271\n",
            "113 8054\n",
            "114 7895\n",
            "115 7802\n",
            "116 7554\n",
            "117 7280\n",
            "118 7121\n",
            "119 6760\n",
            "120 6500\n",
            "121 6207\n",
            "122 5947\n",
            "123 5716\n",
            "124 5468\n",
            "125 5194\n",
            "126 4948\n",
            "127 4758\n",
            "128 4591\n",
            "129 4395\n",
            "130 4237\n",
            "131 4094\n",
            "132 3939\n",
            "133 3814\n",
            "134 3692\n",
            "135 3526\n",
            "136 3403\n",
            "137 3281\n",
            "138 3154\n",
            "139 3025\n",
            "140 2919\n",
            "141 2780\n",
            "142 2645\n",
            "143 2580\n",
            "144 2472\n",
            "145 2348\n",
            "146 2254\n",
            "147 2157\n",
            "148 2071\n",
            "149 1959\n",
            "150 1882\n",
            "151 1800\n",
            "152 1734\n",
            "153 1654\n",
            "154 1602\n",
            "155 1548\n",
            "156 1478\n",
            "157 1440\n",
            "158 1374\n",
            "159 1321\n",
            "160 1284\n",
            "161 1217\n",
            "162 1145\n",
            "163 1096\n",
            "164 1048\n",
            "165 990\n",
            "166 924\n",
            "167 862\n",
            "168 793\n",
            "169 719\n",
            "170 656\n",
            "171 586\n",
            "172 531\n",
            "173 481\n",
            "174 443\n",
            "175 392\n",
            "176 369\n",
            "177 330\n",
            "178 306\n",
            "179 284\n",
            "180 264\n",
            "181 252\n",
            "182 236\n",
            "183 228\n",
            "184 208\n",
            "185 194\n",
            "186 184\n",
            "187 5\n",
            "(21892, 188)\n"
          ],
          "name": "stdout"
        }
      ]
    },
    {
      "cell_type": "code",
      "metadata": {
        "id": "23q-0ifkECu9",
        "colab_type": "code",
        "colab": {
          "base_uri": "https://localhost:8080/",
          "height": 390
        },
        "outputId": "a9d304d8-a4f5-4b71-fce3-68103b95aa91"
      },
      "source": [
        "import matplotlib.pyplot as plt\n",
        "import pandas as pd\n",
        "\n",
        "CountStatus = pd.value_counts(test_data[187], sort=True)\n",
        "print(CountStatus)\n",
        "\n",
        "CountStatus.plot.bar()"
      ],
      "execution_count": 13,
      "outputs": [
        {
          "output_type": "stream",
          "text": [
            "0.0    18118\n",
            "4.0     1608\n",
            "2.0     1448\n",
            "1.0      556\n",
            "3.0      162\n",
            "Name: 187, dtype: int64\n"
          ],
          "name": "stdout"
        },
        {
          "output_type": "execute_result",
          "data": {
            "text/plain": [
              "<matplotlib.axes._subplots.AxesSubplot at 0x7fef64703e48>"
            ]
          },
          "metadata": {
            "tags": []
          },
          "execution_count": 13
        },
        {
          "output_type": "display_data",
          "data": {
            "image/png": "[encoded data removed]",
            "text/plain": [
              "<Figure size 432x288 with 1 Axes>"
            ]
          },
          "metadata": {
            "tags": []
          }
        }
      ]
    },
    {
      "cell_type": "code",
      "metadata": {
        "id": "zjGpIEVjFUBU",
        "colab_type": "code",
        "colab": {}
      },
      "source": [
        "X_train = pd.read_csv('/content/drive/My Drive/Heart Arrhythmia/mitbih_train.csv',header=None,usecols=range(187))\n",
        "Y_train = pd.read_csv('/content/drive/My Drive/Heart Arrhythmia/mitbih_train.csv',header=None,usecols=[187]).iloc[:,0]"
      ],
      "execution_count": 0,
      "outputs": []
    },
    {
      "cell_type": "code",
      "metadata": {
        "id": "Ssdqx6Q5GGJZ",
        "colab_type": "code",
        "colab": {}
      },
      "source": [
        "X_test = pd.read_csv('/content/drive/My Drive/Heart Arrhythmia/mitbih_test.csv',header=None,usecols=range(187))\n",
        "Y_test = pd.read_csv('/content/drive/My Drive/Heart Arrhythmia/mitbih_test.csv',header=None,usecols=[187]).iloc[:,0]"
      ],
      "execution_count": 0,
      "outputs": []
    },
    {
      "cell_type": "code",
      "metadata": {
        "id": "b9CysvcoPjF0",
        "colab_type": "code",
        "colab": {}
      },
      "source": [
        "import time\n",
        "from sklearn.linear_model import LogisticRegression\n",
        "from sklearn.metrics import confusion_matrix, accuracy_score\n",
        "from sklearn.metrics import classification_report"
      ],
      "execution_count": 0,
      "outputs": []
    },
    {
      "cell_type": "code",
      "metadata": {
        "id": "UcKiuXx8Pjb_",
        "colab_type": "code",
        "colab": {
          "base_uri": "https://localhost:8080/",
          "height": 34
        },
        "outputId": "9a4699f8-d287-4bff-a6a6-af4559c2f7dd"
      },
      "source": [
        "model = LogisticRegression(multi_class=\"ovr\",solver=\"newton-cg\", class_weight=\"balanced\",\n",
        "                          n_jobs=2, max_iter=150, C=.5)\n",
        "\n",
        "start_time = time.time()\n",
        "model.fit(X_train,Y_train)\n",
        "print(\"training time {}\".format(time.time()-start_time))"
      ],
      "execution_count": 23,
      "outputs": [
        {
          "output_type": "stream",
          "text": [
            "training time 107.10169315338135\n"
          ],
          "name": "stdout"
        }
      ]
    },
    {
      "cell_type": "code",
      "metadata": {
        "id": "8GzaNO2oPjsv",
        "colab_type": "code",
        "colab": {
          "base_uri": "https://localhost:8080/",
          "height": 34
        },
        "outputId": "6df77d7a-697a-4660-ab4e-07ee7df833cc"
      },
      "source": [
        "y_predict = model.predict(X_test)\n",
        "cf = confusion_matrix(Y_test,y_predict)\n",
        "print(\"accuracy: \" + str(accuracy_score(Y_test,y_predict)))"
      ],
      "execution_count": 24,
      "outputs": [
        {
          "output_type": "stream",
          "text": [
            "accuracy: 0.7881874657409099\n"
          ],
          "name": "stdout"
        }
      ]
    },
    {
      "cell_type": "code",
      "metadata": {
        "id": "iraKvEc8Pj5P",
        "colab_type": "code",
        "colab": {}
      },
      "source": [
        ""
      ],
      "execution_count": 0,
      "outputs": []
    },
    {
      "cell_type": "code",
      "metadata": {
        "id": "beYFtoXjEKIl",
        "colab_type": "code",
        "colab": {
          "base_uri": "https://localhost:8080/",
          "height": 292
        },
        "outputId": "77f90d42-8aed-4dd7-992c-86479bae41c3"
      },
      "source": [
        "from sklearn.ensemble import RandomForestClassifier\n",
        "from sklearn.metrics import classification_report, log_loss\n",
        "\n",
        "rfc1 = RandomForestClassifier()\n",
        "rfc1.fit(X_train, Y_train)\n",
        "\n",
        "y_pred = rfc1.predict(X_test)\n",
        "\n",
        "yhat_pp = rfc1.predict_proba(X_test)\n",
        "print('log loss:', log_loss(Y_test, yhat_pp))\n",
        "\n",
        "print(classification_report(Y_test, y_pred,))"
      ],
      "execution_count": 19,
      "outputs": [
        {
          "output_type": "stream",
          "text": [
            "/usr/local/lib/python3.6/dist-packages/sklearn/ensemble/forest.py:245: FutureWarning: The default value of n_estimators will change from 10 in version 0.20 to 100 in 0.22.\n",
            "  \"10 in version 0.20 to 100 in 0.22.\", FutureWarning)\n"
          ],
          "name": "stderr"
        },
        {
          "output_type": "stream",
          "text": [
            "log loss: 0.27831012723719234\n",
            "              precision    recall  f1-score   support\n",
            "\n",
            "         0.0       0.97      1.00      0.98     18118\n",
            "         1.0       0.96      0.59      0.73       556\n",
            "         2.0       0.97      0.87      0.92      1448\n",
            "         3.0       0.85      0.56      0.67       162\n",
            "         4.0       0.99      0.94      0.96      1608\n",
            "\n",
            "    accuracy                           0.97     21892\n",
            "   macro avg       0.95      0.79      0.85     21892\n",
            "weighted avg       0.97      0.97      0.97     21892\n",
            "\n"
          ],
          "name": "stdout"
        }
      ]
    },
    {
      "cell_type": "code",
      "metadata": {
        "id": "Ds-S1uWDGZH9",
        "colab_type": "code",
        "colab": {
          "base_uri": "https://localhost:8080/",
          "height": 238
        },
        "outputId": "b0ac2664-f163-4925-ca97-e93d0af29d67"
      },
      "source": [
        "# XGBoost\n",
        "import xgboost as xgb\n",
        "\n",
        "model=xgb.XGBClassifier(random_state=1,learning_rate=0.1)\n",
        "model.fit(X_train,Y_train)\n",
        "model.score(X_test,Y_test)\n",
        "\n",
        "y_pred = model.predict(X_test)\n",
        "\n",
        "yhat_pp = model.predict_proba(X_test)\n",
        "print('log loss:', log_loss(Y_test, yhat_pp))\n",
        "print(classification_report(Y_test,y_pred))\n",
        "# Slightly worse f1-score, but better log loss score than RFC"
      ],
      "execution_count": 20,
      "outputs": [
        {
          "output_type": "stream",
          "text": [
            "log loss: 0.15180948806784986\n",
            "              precision    recall  f1-score   support\n",
            "\n",
            "         0.0       0.96      1.00      0.98     18118\n",
            "         1.0       0.94      0.54      0.68       556\n",
            "         2.0       0.95      0.79      0.86      1448\n",
            "         3.0       0.74      0.40      0.52       162\n",
            "         4.0       0.98      0.91      0.95      1608\n",
            "\n",
            "    accuracy                           0.96     21892\n",
            "   macro avg       0.91      0.73      0.80     21892\n",
            "weighted avg       0.96      0.96      0.96     21892\n",
            "\n"
          ],
          "name": "stdout"
        }
      ]
    },
    {
      "cell_type": "code",
      "metadata": {
        "id": "EAgQym0GMaDN",
        "colab_type": "code",
        "colab": {}
      },
      "source": [
        ""
      ],
      "execution_count": 0,
      "outputs": []
    }
  ]
}